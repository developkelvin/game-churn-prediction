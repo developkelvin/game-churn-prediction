{
 "cells": [
  {
   "cell_type": "code",
   "execution_count": 1,
   "metadata": {},
   "outputs": [],
   "source": [
    "import pandas as pd"
   ]
  },
  {
   "cell_type": "code",
   "execution_count": 2,
   "metadata": {},
   "outputs": [],
   "source": [
    "label = pd.read_csv('final_data_rev/train/train_label.csv')"
   ]
  },
  {
   "cell_type": "code",
   "execution_count": 3,
   "metadata": {},
   "outputs": [],
   "source": [
    "hashing_table = list()"
   ]
  },
  {
   "cell_type": "code",
   "execution_count": 4,
   "metadata": {},
   "outputs": [],
   "source": [
    "def transform_num(idx):\n",
    "    CONST = 26 # 26진수\n",
    "    quotient = idx\n",
    "    remainder = 0\n",
    "    count = 3\n",
    "    num_list = [0,0,0,0]\n",
    "    while count >= 0:\n",
    "        remainder = quotient % 26\n",
    "        quotient = int(quotient / 26)\n",
    "        num_list[count] = remainder\n",
    "        count = count - 1\n",
    "        \n",
    "        #print(f'reaminder : {remainder}, quotient : {quotient}')\n",
    "    \n",
    "    return num_list\n",
    "        "
   ]
  },
  {
   "cell_type": "code",
   "execution_count": 5,
   "metadata": {},
   "outputs": [],
   "source": [
    "def make_hash_table():\n",
    "    alphabet_set = ['A','B','C','D','E','F','G','H','I','J','K','L','M','N','O','P','Q','R','S','T','U','V','W','X','Y','Z']\n",
    "    hash_table = list()\n",
    "    for idx, acc_id in enumerate(label['acc_id']):\n",
    "        # idx <= 100,000\n",
    "        num_idx = transform_num(idx)\n",
    "        hashed_list = [alphabet_set[n] for n in num_idx]\n",
    "        \n",
    "        hashed_str = ''.join(hashed_list)\n",
    "        hash_table.append({'acc_id':acc_id, 'hashed':hashed_str})\n",
    "    \n",
    "    return hash_table"
   ]
  },
  {
   "cell_type": "code",
   "execution_count": 6,
   "metadata": {},
   "outputs": [
    {
     "data": {
      "text/html": [
       "<div>\n",
       "<style scoped>\n",
       "    .dataframe tbody tr th:only-of-type {\n",
       "        vertical-align: middle;\n",
       "    }\n",
       "\n",
       "    .dataframe tbody tr th {\n",
       "        vertical-align: top;\n",
       "    }\n",
       "\n",
       "    .dataframe thead th {\n",
       "        text-align: right;\n",
       "    }\n",
       "</style>\n",
       "<table border=\"1\" class=\"dataframe\">\n",
       "  <thead>\n",
       "    <tr style=\"text-align: right;\">\n",
       "      <th></th>\n",
       "      <th>acc_id</th>\n",
       "      <th>hashed</th>\n",
       "    </tr>\n",
       "  </thead>\n",
       "  <tbody>\n",
       "    <tr>\n",
       "      <th>0</th>\n",
       "      <td>b8fbf3f6a70e3f36843bffc70c18ff51a0d755a87616ec...</td>\n",
       "      <td>AAAA</td>\n",
       "    </tr>\n",
       "    <tr>\n",
       "      <th>1</th>\n",
       "      <td>ed500c4957956b3e99dc3985666850b582f812405eefb6...</td>\n",
       "      <td>AAAB</td>\n",
       "    </tr>\n",
       "    <tr>\n",
       "      <th>2</th>\n",
       "      <td>acc6afa23a6bf15e18151e4794c7789225ef9d682f473c...</td>\n",
       "      <td>AAAC</td>\n",
       "    </tr>\n",
       "    <tr>\n",
       "      <th>3</th>\n",
       "      <td>34095a3c9a2937ced3ea3fd75e22ce177dc5879d2a53f7...</td>\n",
       "      <td>AAAD</td>\n",
       "    </tr>\n",
       "    <tr>\n",
       "      <th>4</th>\n",
       "      <td>26f3db6e8817a93c4ceda9a16f0832945e43d950b95882...</td>\n",
       "      <td>AAAE</td>\n",
       "    </tr>\n",
       "  </tbody>\n",
       "</table>\n",
       "</div>"
      ],
      "text/plain": [
       "                                              acc_id hashed\n",
       "0  b8fbf3f6a70e3f36843bffc70c18ff51a0d755a87616ec...   AAAA\n",
       "1  ed500c4957956b3e99dc3985666850b582f812405eefb6...   AAAB\n",
       "2  acc6afa23a6bf15e18151e4794c7789225ef9d682f473c...   AAAC\n",
       "3  34095a3c9a2937ced3ea3fd75e22ce177dc5879d2a53f7...   AAAD\n",
       "4  26f3db6e8817a93c4ceda9a16f0832945e43d950b95882...   AAAE"
      ]
     },
     "execution_count": 6,
     "metadata": {},
     "output_type": "execute_result"
    }
   ],
   "source": [
    "hash_table = make_hash_table()\n",
    "\n",
    "hash_df = pd.DataFrame(hash_table)\n",
    "hash_df.head()"
   ]
  },
  {
   "cell_type": "code",
   "execution_count": 7,
   "metadata": {},
   "outputs": [],
   "source": [
    "hash_df.to_csv('acc_id_hash_table.csv', index=False)"
   ]
  }
 ],
 "metadata": {
  "kernelspec": {
   "display_name": "Python 3",
   "language": "python",
   "name": "python3"
  },
  "language_info": {
   "codemirror_mode": {
    "name": "ipython",
    "version": 3
   },
   "file_extension": ".py",
   "mimetype": "text/x-python",
   "name": "python",
   "nbconvert_exporter": "python",
   "pygments_lexer": "ipython3",
   "version": "3.7.2"
  }
 },
 "nbformat": 4,
 "nbformat_minor": 2
}
