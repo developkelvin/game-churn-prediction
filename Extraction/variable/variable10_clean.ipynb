{
 "cells": [
  {
   "attachments": {},
   "cell_type": "markdown",
   "metadata": {},
   "source": [
    "## 변수 10개 추출하기(~04/24)\n",
    "* 총 접속 일수\ttotal_cnt_dt (표준화 X)\n",
    "* 총 플레이시간\ttotal_play_time\n",
    "* NPC 사냥 일반 경험치\ttotal_npc_exp\n",
    "* NPC 사냥 홍문 경험치\ttotal_npc_hongmun\n",
    "* 퀘스트 일반 경험치\ttotal_quest_exp\n",
    "* 퀘스트 홍문 경험치\ttotal_quest_hongmun\n",
    "* 아이템 홍문 경험치\ttotal_item_hongmun\n",
    "* 총 재화 획득량\ttotal_get_money\n",
    "* 결투 참여 횟수\ttotal_duel_cnt\n",
    "* 결투 승리 횟수\ttotal_duel_win"
   ]
  },
  {
   "cell_type": "code",
   "execution_count": 1,
   "metadata": {},
   "outputs": [],
   "source": [
    "import pandas as pd\n",
    "import numpy as np"
   ]
  },
  {
   "cell_type": "code",
   "execution_count": 2,
   "metadata": {},
   "outputs": [],
   "source": [
    "activity = pd.read_csv('../../../final_data_rev/train/train_activity.csv')"
   ]
  },
  {
   "cell_type": "code",
   "execution_count": 3,
   "metadata": {},
   "outputs": [
    {
     "data": {
      "text/plain": [
       "(440323, 38)"
      ]
     },
     "execution_count": 3,
     "metadata": {},
     "output_type": "execute_result"
    }
   ],
   "source": [
    "activity.shape"
   ]
  },
  {
   "cell_type": "code",
   "execution_count": 5,
   "metadata": {},
   "outputs": [
    {
     "data": {
      "text/plain": [
       "(100000,)"
      ]
     },
     "execution_count": 5,
     "metadata": {},
     "output_type": "execute_result"
    }
   ],
   "source": [
    "# 유저 아이디 추출\n",
    "acc_id_uniq = activity.acc_id.unique()\n",
    "acc_id_uniq.shape"
   ]
  },
  {
   "cell_type": "code",
   "execution_count": 23,
   "metadata": {},
   "outputs": [
    {
     "data": {
      "text/plain": [
       "(100000, 1)"
      ]
     },
     "execution_count": 23,
     "metadata": {},
     "output_type": "execute_result"
    }
   ],
   "source": [
    "# structured data를 만들 데이터프레임 df 선언\n",
    "df = pd.DataFrame({'acc_id':acc_id_uniq})\n",
    "df.shape"
   ]
  },
  {
   "cell_type": "code",
   "execution_count": 24,
   "metadata": {},
   "outputs": [],
   "source": [
    "var_name_list = ['play_time','npc_exp', 'npc_hongmun', 'quest_exp', 'quest_hongmun','item_hongmun', 'get_money', 'duel_cnt', 'duel_win']"
   ]
  },
  {
   "cell_type": "code",
   "execution_count": 25,
   "metadata": {},
   "outputs": [],
   "source": [
    "total_cnt_dt = activity.groupby('acc_id').cnt_dt.sum()\n",
    "df = df.merge(total_cnt_dt, left_on=['acc_id'], right_on=['acc_id'])"
   ]
  },
  {
   "cell_type": "code",
   "execution_count": 26,
   "metadata": {},
   "outputs": [],
   "source": [
    "# 집계(aggrigate) 할 때 사용하는 함수\n",
    "def get_total_agg_func(values, val_min):\n",
    "    play_wk = len(values) # 총 접속한 주\n",
    "    non_play_wk = 8 - play_wk # 접속하지 않은 주의 수\n",
    "    \n",
    "    calibrate_val = non_play_wk * val_min # 보정해줄 값 = 접속하지 않은 주의 수 * 최소값\n",
    "    \n",
    "    val_sum = 0\n",
    "    for value in values:\n",
    "        val_sum += value\n",
    "        \n",
    "    val_total = val_sum + calibrate_val # 값들의 총 합 + 보정할 값\n",
    "    return val_total"
   ]
  },
  {
   "cell_type": "code",
   "execution_count": 27,
   "metadata": {},
   "outputs": [],
   "source": [
    "# df에 변수를 추가하는 함수\n",
    "def add_variable(df, var_name_list):\n",
    "    \n",
    "    for var_name in var_name_list:\n",
    "        groupby = activity.groupby('acc_id')['{}'.format(var_name)] # 해당하는 변수에 대해 groupby 해줌\n",
    "        val_min = activity['{}'.format(var_name)].min() # 최소값을 변수에 저장\n",
    "        agg = groupby.agg(get_total_agg_func, val_min=val_min) # 각 그룹마다 총합을 구해줌\n",
    "        df = df.merge(agg, left_on='acc_id', right_on='acc_id') # df에 merge 진행\n",
    "    return df"
   ]
  },
  {
   "cell_type": "code",
   "execution_count": 28,
   "metadata": {},
   "outputs": [],
   "source": [
    "df = add_variable(df, var_name_list)"
   ]
  },
  {
   "cell_type": "code",
   "execution_count": 29,
   "metadata": {},
   "outputs": [
    {
     "data": {
      "text/html": [
       "<div>\n",
       "<style scoped>\n",
       "    .dataframe tbody tr th:only-of-type {\n",
       "        vertical-align: middle;\n",
       "    }\n",
       "\n",
       "    .dataframe tbody tr th {\n",
       "        vertical-align: top;\n",
       "    }\n",
       "\n",
       "    .dataframe thead th {\n",
       "        text-align: right;\n",
       "    }\n",
       "</style>\n",
       "<table border=\"1\" class=\"dataframe\">\n",
       "  <thead>\n",
       "    <tr style=\"text-align: right;\">\n",
       "      <th></th>\n",
       "      <th>acc_id</th>\n",
       "      <th>cnt_dt</th>\n",
       "      <th>play_time</th>\n",
       "      <th>npc_exp</th>\n",
       "      <th>npc_hongmun</th>\n",
       "      <th>quest_exp</th>\n",
       "      <th>quest_hongmun</th>\n",
       "      <th>item_hongmun</th>\n",
       "      <th>get_money</th>\n",
       "      <th>duel_cnt</th>\n",
       "      <th>duel_win</th>\n",
       "    </tr>\n",
       "  </thead>\n",
       "  <tbody>\n",
       "    <tr>\n",
       "      <th>0</th>\n",
       "      <td>3dc6f2875dc6e6f35b9e2bdb25b391a8003386ff23becd...</td>\n",
       "      <td>9</td>\n",
       "      <td>0.792270</td>\n",
       "      <td>7.773991</td>\n",
       "      <td>-2.212823</td>\n",
       "      <td>9.058999</td>\n",
       "      <td>4.842328</td>\n",
       "      <td>-2.450829</td>\n",
       "      <td>-0.188121</td>\n",
       "      <td>-0.289344</td>\n",
       "      <td>-0.330606</td>\n",
       "    </tr>\n",
       "    <tr>\n",
       "      <th>1</th>\n",
       "      <td>b8856358ff62e596fa07e3e40b8e7fd4b7729263c72b44...</td>\n",
       "      <td>15</td>\n",
       "      <td>-5.262302</td>\n",
       "      <td>-1.854139</td>\n",
       "      <td>-2.326426</td>\n",
       "      <td>-1.998941</td>\n",
       "      <td>-3.901330</td>\n",
       "      <td>-2.450829</td>\n",
       "      <td>-0.188343</td>\n",
       "      <td>-0.289344</td>\n",
       "      <td>-0.330606</td>\n",
       "    </tr>\n",
       "    <tr>\n",
       "      <th>2</th>\n",
       "      <td>fa883ca7505082114c4024052354f1fb416f6bae26ed06...</td>\n",
       "      <td>6</td>\n",
       "      <td>-5.289857</td>\n",
       "      <td>-1.854992</td>\n",
       "      <td>-2.326426</td>\n",
       "      <td>-2.003387</td>\n",
       "      <td>-3.901330</td>\n",
       "      <td>-2.450829</td>\n",
       "      <td>-0.188343</td>\n",
       "      <td>-0.289344</td>\n",
       "      <td>-0.330606</td>\n",
       "    </tr>\n",
       "    <tr>\n",
       "      <th>3</th>\n",
       "      <td>d094b6b1c5d0a147eaae3e37b256894def52de39c6eca3...</td>\n",
       "      <td>3</td>\n",
       "      <td>-4.025387</td>\n",
       "      <td>-0.247012</td>\n",
       "      <td>-2.178636</td>\n",
       "      <td>0.215844</td>\n",
       "      <td>-1.570812</td>\n",
       "      <td>-2.357342</td>\n",
       "      <td>-0.188287</td>\n",
       "      <td>-0.289344</td>\n",
       "      <td>-0.330606</td>\n",
       "    </tr>\n",
       "    <tr>\n",
       "      <th>4</th>\n",
       "      <td>38e7088d64485baba2968be8ad56f5b8abeced8ccd95f1...</td>\n",
       "      <td>50</td>\n",
       "      <td>0.243092</td>\n",
       "      <td>-1.854992</td>\n",
       "      <td>-0.823104</td>\n",
       "      <td>-2.003387</td>\n",
       "      <td>-3.012494</td>\n",
       "      <td>-1.557510</td>\n",
       "      <td>-0.187585</td>\n",
       "      <td>-0.289344</td>\n",
       "      <td>-0.330606</td>\n",
       "    </tr>\n",
       "  </tbody>\n",
       "</table>\n",
       "</div>"
      ],
      "text/plain": [
       "                                              acc_id  cnt_dt  play_time  \\\n",
       "0  3dc6f2875dc6e6f35b9e2bdb25b391a8003386ff23becd...       9   0.792270   \n",
       "1  b8856358ff62e596fa07e3e40b8e7fd4b7729263c72b44...      15  -5.262302   \n",
       "2  fa883ca7505082114c4024052354f1fb416f6bae26ed06...       6  -5.289857   \n",
       "3  d094b6b1c5d0a147eaae3e37b256894def52de39c6eca3...       3  -4.025387   \n",
       "4  38e7088d64485baba2968be8ad56f5b8abeced8ccd95f1...      50   0.243092   \n",
       "\n",
       "    npc_exp  npc_hongmun  quest_exp  quest_hongmun  item_hongmun  get_money  \\\n",
       "0  7.773991    -2.212823   9.058999       4.842328     -2.450829  -0.188121   \n",
       "1 -1.854139    -2.326426  -1.998941      -3.901330     -2.450829  -0.188343   \n",
       "2 -1.854992    -2.326426  -2.003387      -3.901330     -2.450829  -0.188343   \n",
       "3 -0.247012    -2.178636   0.215844      -1.570812     -2.357342  -0.188287   \n",
       "4 -1.854992    -0.823104  -2.003387      -3.012494     -1.557510  -0.187585   \n",
       "\n",
       "   duel_cnt  duel_win  \n",
       "0 -0.289344 -0.330606  \n",
       "1 -0.289344 -0.330606  \n",
       "2 -0.289344 -0.330606  \n",
       "3 -0.289344 -0.330606  \n",
       "4 -0.289344 -0.330606  "
      ]
     },
     "execution_count": 29,
     "metadata": {},
     "output_type": "execute_result"
    }
   ],
   "source": [
    "df.head()"
   ]
  },
  {
   "cell_type": "code",
   "execution_count": 32,
   "metadata": {},
   "outputs": [],
   "source": [
    "cols = dict()\n",
    "for var_name in var_name_list:\n",
    "    cols['{}'.format(var_name)] = 'total_{}'.format(var_name)\n",
    "cols['cnt_dt'] = 'total_cnt_dt'"
   ]
  },
  {
   "cell_type": "code",
   "execution_count": 33,
   "metadata": {},
   "outputs": [
    {
     "data": {
      "text/html": [
       "<div>\n",
       "<style scoped>\n",
       "    .dataframe tbody tr th:only-of-type {\n",
       "        vertical-align: middle;\n",
       "    }\n",
       "\n",
       "    .dataframe tbody tr th {\n",
       "        vertical-align: top;\n",
       "    }\n",
       "\n",
       "    .dataframe thead th {\n",
       "        text-align: right;\n",
       "    }\n",
       "</style>\n",
       "<table border=\"1\" class=\"dataframe\">\n",
       "  <thead>\n",
       "    <tr style=\"text-align: right;\">\n",
       "      <th></th>\n",
       "      <th>acc_id</th>\n",
       "      <th>total_cnt_dt</th>\n",
       "      <th>total_play_time</th>\n",
       "      <th>total_npc_exp</th>\n",
       "      <th>total_npc_hongmun</th>\n",
       "      <th>total_quest_exp</th>\n",
       "      <th>total_quest_hongmun</th>\n",
       "      <th>total_item_hongmun</th>\n",
       "      <th>total_get_money</th>\n",
       "      <th>total_duel_cnt</th>\n",
       "      <th>total_duel_win</th>\n",
       "    </tr>\n",
       "  </thead>\n",
       "  <tbody>\n",
       "    <tr>\n",
       "      <th>0</th>\n",
       "      <td>3dc6f2875dc6e6f35b9e2bdb25b391a8003386ff23becd...</td>\n",
       "      <td>9</td>\n",
       "      <td>0.792270</td>\n",
       "      <td>7.773991</td>\n",
       "      <td>-2.212823</td>\n",
       "      <td>9.058999</td>\n",
       "      <td>4.842328</td>\n",
       "      <td>-2.450829</td>\n",
       "      <td>-0.188121</td>\n",
       "      <td>-0.289344</td>\n",
       "      <td>-0.330606</td>\n",
       "    </tr>\n",
       "    <tr>\n",
       "      <th>1</th>\n",
       "      <td>b8856358ff62e596fa07e3e40b8e7fd4b7729263c72b44...</td>\n",
       "      <td>15</td>\n",
       "      <td>-5.262302</td>\n",
       "      <td>-1.854139</td>\n",
       "      <td>-2.326426</td>\n",
       "      <td>-1.998941</td>\n",
       "      <td>-3.901330</td>\n",
       "      <td>-2.450829</td>\n",
       "      <td>-0.188343</td>\n",
       "      <td>-0.289344</td>\n",
       "      <td>-0.330606</td>\n",
       "    </tr>\n",
       "    <tr>\n",
       "      <th>2</th>\n",
       "      <td>fa883ca7505082114c4024052354f1fb416f6bae26ed06...</td>\n",
       "      <td>6</td>\n",
       "      <td>-5.289857</td>\n",
       "      <td>-1.854992</td>\n",
       "      <td>-2.326426</td>\n",
       "      <td>-2.003387</td>\n",
       "      <td>-3.901330</td>\n",
       "      <td>-2.450829</td>\n",
       "      <td>-0.188343</td>\n",
       "      <td>-0.289344</td>\n",
       "      <td>-0.330606</td>\n",
       "    </tr>\n",
       "    <tr>\n",
       "      <th>3</th>\n",
       "      <td>d094b6b1c5d0a147eaae3e37b256894def52de39c6eca3...</td>\n",
       "      <td>3</td>\n",
       "      <td>-4.025387</td>\n",
       "      <td>-0.247012</td>\n",
       "      <td>-2.178636</td>\n",
       "      <td>0.215844</td>\n",
       "      <td>-1.570812</td>\n",
       "      <td>-2.357342</td>\n",
       "      <td>-0.188287</td>\n",
       "      <td>-0.289344</td>\n",
       "      <td>-0.330606</td>\n",
       "    </tr>\n",
       "    <tr>\n",
       "      <th>4</th>\n",
       "      <td>38e7088d64485baba2968be8ad56f5b8abeced8ccd95f1...</td>\n",
       "      <td>50</td>\n",
       "      <td>0.243092</td>\n",
       "      <td>-1.854992</td>\n",
       "      <td>-0.823104</td>\n",
       "      <td>-2.003387</td>\n",
       "      <td>-3.012494</td>\n",
       "      <td>-1.557510</td>\n",
       "      <td>-0.187585</td>\n",
       "      <td>-0.289344</td>\n",
       "      <td>-0.330606</td>\n",
       "    </tr>\n",
       "  </tbody>\n",
       "</table>\n",
       "</div>"
      ],
      "text/plain": [
       "                                              acc_id  total_cnt_dt  \\\n",
       "0  3dc6f2875dc6e6f35b9e2bdb25b391a8003386ff23becd...             9   \n",
       "1  b8856358ff62e596fa07e3e40b8e7fd4b7729263c72b44...            15   \n",
       "2  fa883ca7505082114c4024052354f1fb416f6bae26ed06...             6   \n",
       "3  d094b6b1c5d0a147eaae3e37b256894def52de39c6eca3...             3   \n",
       "4  38e7088d64485baba2968be8ad56f5b8abeced8ccd95f1...            50   \n",
       "\n",
       "   total_play_time  total_npc_exp  total_npc_hongmun  total_quest_exp  \\\n",
       "0         0.792270       7.773991          -2.212823         9.058999   \n",
       "1        -5.262302      -1.854139          -2.326426        -1.998941   \n",
       "2        -5.289857      -1.854992          -2.326426        -2.003387   \n",
       "3        -4.025387      -0.247012          -2.178636         0.215844   \n",
       "4         0.243092      -1.854992          -0.823104        -2.003387   \n",
       "\n",
       "   total_quest_hongmun  total_item_hongmun  total_get_money  total_duel_cnt  \\\n",
       "0             4.842328           -2.450829        -0.188121       -0.289344   \n",
       "1            -3.901330           -2.450829        -0.188343       -0.289344   \n",
       "2            -3.901330           -2.450829        -0.188343       -0.289344   \n",
       "3            -1.570812           -2.357342        -0.188287       -0.289344   \n",
       "4            -3.012494           -1.557510        -0.187585       -0.289344   \n",
       "\n",
       "   total_duel_win  \n",
       "0       -0.330606  \n",
       "1       -0.330606  \n",
       "2       -0.330606  \n",
       "3       -0.330606  \n",
       "4       -0.330606  "
      ]
     },
     "execution_count": 33,
     "metadata": {},
     "output_type": "execute_result"
    }
   ],
   "source": [
    "# column 이름 변경\n",
    "df = df.rename(index=str, columns=cols)\n",
    "df.head()"
   ]
  },
  {
   "cell_type": "code",
   "execution_count": 34,
   "metadata": {},
   "outputs": [],
   "source": [
    "df.to_csv('variable10.csv')"
   ]
  },
  {
   "cell_type": "code",
   "execution_count": null,
   "metadata": {},
   "outputs": [],
   "source": []
  }
 ],
 "metadata": {
  "kernelspec": {
   "display_name": "Python 3",
   "language": "python",
   "name": "python3"
  },
  "language_info": {
   "codemirror_mode": {
    "name": "ipython",
    "version": 3
   },
   "file_extension": ".py",
   "mimetype": "text/x-python",
   "name": "python",
   "nbconvert_exporter": "python",
   "pygments_lexer": "ipython3",
   "version": "3.7.2"
  }
 },
 "nbformat": 4,
 "nbformat_minor": 2
}
